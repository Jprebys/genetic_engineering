{
 "cells": [
  {
   "cell_type": "markdown",
   "metadata": {},
   "source": [
    "# Modeling\n",
    "\n",
    "It's time to get into the good stuff. Plan of attack:\n",
    "\n",
    "1. Start with Naive-Bayes classifiers\n",
    "2. Try some ensemble methods: boosting, bagging, stacking\n",
    "3. In next notebook implement a CNN, because its what all the winners are using"
   ]
  },
  {
   "cell_type": "code",
   "execution_count": 1,
   "metadata": {},
   "outputs": [],
   "source": [
    "# Standard imports\n",
    "import pandas as pd\n",
    "import numpy as np\n",
    "import matplotlib.pyplot as plt\n",
    "\n",
    "# Model testing\n",
    "from sklearn.naive_bayes import MultinomialNB\n",
    "\n",
    "# Helper functions\n",
    "import sys\n",
    "import os\n",
    "sys.path.append(os.pardir)\n",
    "from src.functions import *"
   ]
  },
  {
   "cell_type": "code",
   "execution_count": null,
   "metadata": {},
   "outputs": [],
   "source": []
  }
 ],
 "metadata": {
  "kernelspec": {
   "display_name": "jakerenv",
   "language": "python",
   "name": "jakerenv"
  },
  "language_info": {
   "codemirror_mode": {
    "name": "ipython",
    "version": 3
   },
   "file_extension": ".py",
   "mimetype": "text/x-python",
   "name": "python",
   "nbconvert_exporter": "python",
   "pygments_lexer": "ipython3",
   "version": "3.8.5"
  }
 },
 "nbformat": 4,
 "nbformat_minor": 4
}
