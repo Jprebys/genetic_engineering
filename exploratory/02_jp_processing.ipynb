{
 "cells": [
  {
   "cell_type": "markdown",
   "metadata": {},
   "source": [
    "# Data Processing Exploration\n",
    "\n",
    "I'd like to try a few things including:\n",
    " - Use different n-gram widths\n",
    " - Find performance difference for overlapping vs non-overlapping subsequences\n",
    " - Utilize more of the sparse columns"
   ]
  },
  {
   "cell_type": "code",
   "execution_count": 1,
   "metadata": {},
   "outputs": [],
   "source": [
    "# Standard imports\n",
    "import pandas as pd\n",
    "import numpy as np\n",
    "import matplotlib.pyplot as plt\n",
    "\n",
    "# Helper functions\n",
    "import sys\n",
    "import os\n",
    "sys.path.append(os.pardir)\n",
    "from src.functions import *"
   ]
  },
  {
   "cell_type": "markdown",
   "metadata": {},
   "source": [
    "os.pardir"
   ]
  },
  {
   "cell_type": "code",
   "execution_count": 2,
   "metadata": {},
   "outputs": [],
   "source": [
    "X, y = get_training_data()"
   ]
  },
  {
   "cell_type": "markdown",
   "metadata": {},
   "source": [
    "I'll make it a little easier to switch between permutation sizes"
   ]
  },
  {
   "cell_type": "code",
   "execution_count": 17,
   "metadata": {},
   "outputs": [],
   "source": [
    "def get_perms(n):\n",
    "    \"\"\"Return list of subsequences with length n\"\"\"\n",
    "    from itertools import permutations\n",
    "    bases = 'CATGN'\n",
    "    return [''.join(perm) for perm in permutations(bases, n)]"
   ]
  },
  {
   "cell_type": "code",
   "execution_count": 30,
   "metadata": {},
   "outputs": [],
   "source": [
    "# Every permutation of every size\n",
    "all_perms = [perm for n in range(1, 6) for perm in get_perms(n)]"
   ]
  },
  {
   "cell_type": "markdown",
   "metadata": {},
   "source": [
    "Now I'd like to have a function that can produce overlapping substrings\n",
    "string.count("
   ]
  }
 ],
 "metadata": {
  "kernelspec": {
   "display_name": "jakerenv",
   "language": "python",
   "name": "jakerenv"
  },
  "language_info": {
   "codemirror_mode": {
    "name": "ipython",
    "version": 3
   },
   "file_extension": ".py",
   "mimetype": "text/x-python",
   "name": "python",
   "nbconvert_exporter": "python",
   "pygments_lexer": "ipython3",
   "version": "3.8.5"
  }
 },
 "nbformat": 4,
 "nbformat_minor": 4
}
