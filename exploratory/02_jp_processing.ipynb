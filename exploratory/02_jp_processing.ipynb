{
 "cells": [
  {
   "cell_type": "markdown",
   "metadata": {},
   "source": [
    "# Data Processing Exploration\n",
    "\n",
    "I'd like to try a few things including:\n",
    " - Use different n-gram widths\n",
    " - Find performance difference for overlapping vs non-overlapping subsequences\n",
    " - Utilize more of the sparse columns"
   ]
  },
  {
   "cell_type": "code",
   "execution_count": 24,
   "metadata": {},
   "outputs": [],
   "source": [
    "# Standard imports\n",
    "import pandas as pd\n",
    "import numpy as np\n",
    "import matplotlib.pyplot as plt\n",
    "\n",
    "# Model testing\n",
    "from sklearn.naive_bayes import MultinomialNB\n",
    "\n",
    "# Helper functions\n",
    "import sys\n",
    "import os\n",
    "sys.path.append(os.pardir)\n",
    "from src.functions import *"
   ]
  },
  {
   "cell_type": "markdown",
   "metadata": {},
   "source": [
    "os.pardir"
   ]
  },
  {
   "cell_type": "code",
   "execution_count": 31,
   "metadata": {},
   "outputs": [],
   "source": [
    "X, y = get_training_data()\n",
    "lab_ids = pd.DataFrame(y.idxmax(axis=1), columns=['lab_id'])"
   ]
  },
  {
   "cell_type": "markdown",
   "metadata": {},
   "source": [
    "I'll make it a little easier to switch between permutation sizes"
   ]
  },
  {
   "cell_type": "code",
   "execution_count": 6,
   "metadata": {},
   "outputs": [],
   "source": [
    "def get_perms(n):\n",
    "    \"\"\"Return list of subsequences with length n\"\"\"\n",
    "    from itertools import permutations\n",
    "    bases = 'CATGN'\n",
    "    return [''.join(perm) for perm in permutations(bases, n)]"
   ]
  },
  {
   "cell_type": "code",
   "execution_count": 5,
   "metadata": {},
   "outputs": [],
   "source": [
    "# Every permutation of every size\n",
    "all_perms = [perm for n in range(1, 6) for perm in get_perms(n)]"
   ]
  },
  {
   "cell_type": "markdown",
   "metadata": {},
   "source": [
    "Now I'd like to have a function that can produce overlapping substring counts\n",
    "\n",
    "As shown below, the `str.count()` method does not do this\n"
   ]
  },
  {
   "cell_type": "code",
   "execution_count": 6,
   "metadata": {},
   "outputs": [
    {
     "data": {
      "text/plain": [
       "1"
      ]
     },
     "execution_count": 6,
     "metadata": {},
     "output_type": "execute_result"
    }
   ],
   "source": [
    "seq = 'jakeandjakeandjake'\n",
    "subseq = 'jakeandjake'\n",
    "seq.count(subseq)"
   ]
  },
  {
   "cell_type": "code",
   "execution_count": 7,
   "metadata": {},
   "outputs": [
    {
     "data": {
      "text/plain": [
       "7"
      ]
     },
     "execution_count": 7,
     "metadata": {},
     "output_type": "execute_result"
    }
   ],
   "source": [
    "seq.find(subseq, 2)"
   ]
  },
  {
   "cell_type": "code",
   "execution_count": 8,
   "metadata": {},
   "outputs": [
    {
     "data": {
      "text/plain": [
       "2"
      ]
     },
     "execution_count": 8,
     "metadata": {},
     "output_type": "execute_result"
    }
   ],
   "source": [
    "def find_overlapping(seq, subseq):\n",
    "    pos, count = 0, 0\n",
    "    while True:\n",
    "        pos = seq.find(subseq, pos)\n",
    "        if pos < 0:\n",
    "            break\n",
    "        pos += 1    \n",
    "        count += 1\n",
    "    return count   \n",
    "    \n",
    "find_overlapping(seq, subseq)    "
   ]
  },
  {
   "cell_type": "markdown",
   "metadata": {},
   "source": [
    "Awesome, I'll put this in the [functions file](../src/functions.py) and integrate it into the existing `get_ngram_features()` function"
   ]
  },
  {
   "cell_type": "code",
   "execution_count": 45,
   "metadata": {},
   "outputs": [],
   "source": [
    "def get_ngram_features(data, subsequences, overlapping=False):\n",
    "    \"\"\"Generate counts for each subsequence.\n",
    "\n",
    "    Args:\n",
    "        data (DataFrame): The data you want to create features from. Must include a \"sequence\" column.\n",
    "        subsequences (list): A list of subsequences to count.\n",
    "        overlapping (bool): True if you want overlapping counts, False by default\n",
    "\n",
    "    Returns:\n",
    "        DataFrame: A DataFrame with one column for each subsequence.\n",
    "    \"\"\"\n",
    "    features = pd.DataFrame(index=data.index)\n",
    "    \n",
    "    for subseq in subsequences:\n",
    "        if overlapping:\n",
    "            features[subseq] = data.sequence.apply(find_overlapping, args=(subseq, ))\n",
    "        else:\n",
    "            features[subseq] = data.sequence.str.count(subseq)\n",
    "        \n",
    "            \n",
    "    return features\n"
   ]
  },
  {
   "cell_type": "code",
   "execution_count": 25,
   "metadata": {},
   "outputs": [
    {
     "data": {
      "text/html": [
       "<div>\n",
       "<style scoped>\n",
       "    .dataframe tbody tr th:only-of-type {\n",
       "        vertical-align: middle;\n",
       "    }\n",
       "\n",
       "    .dataframe tbody tr th {\n",
       "        vertical-align: top;\n",
       "    }\n",
       "\n",
       "    .dataframe thead th {\n",
       "        text-align: right;\n",
       "    }\n",
       "</style>\n",
       "<table border=\"1\" class=\"dataframe\">\n",
       "  <thead>\n",
       "    <tr style=\"text-align: right;\">\n",
       "      <th></th>\n",
       "      <th>CAT</th>\n",
       "      <th>CAG</th>\n",
       "      <th>CAN</th>\n",
       "      <th>CTA</th>\n",
       "      <th>CTG</th>\n",
       "      <th>CTN</th>\n",
       "      <th>CGA</th>\n",
       "      <th>CGT</th>\n",
       "      <th>CGN</th>\n",
       "      <th>CNA</th>\n",
       "      <th>...</th>\n",
       "      <th>NCG</th>\n",
       "      <th>NAC</th>\n",
       "      <th>NAT</th>\n",
       "      <th>NAG</th>\n",
       "      <th>NTC</th>\n",
       "      <th>NTA</th>\n",
       "      <th>NTG</th>\n",
       "      <th>NGC</th>\n",
       "      <th>NGA</th>\n",
       "      <th>NGT</th>\n",
       "    </tr>\n",
       "    <tr>\n",
       "      <th>sequence_id</th>\n",
       "      <th></th>\n",
       "      <th></th>\n",
       "      <th></th>\n",
       "      <th></th>\n",
       "      <th></th>\n",
       "      <th></th>\n",
       "      <th></th>\n",
       "      <th></th>\n",
       "      <th></th>\n",
       "      <th></th>\n",
       "      <th></th>\n",
       "      <th></th>\n",
       "      <th></th>\n",
       "      <th></th>\n",
       "      <th></th>\n",
       "      <th></th>\n",
       "      <th></th>\n",
       "      <th></th>\n",
       "      <th></th>\n",
       "      <th></th>\n",
       "      <th></th>\n",
       "    </tr>\n",
       "  </thead>\n",
       "  <tbody>\n",
       "    <tr>\n",
       "      <th>9ZIMC</th>\n",
       "      <td>103</td>\n",
       "      <td>157</td>\n",
       "      <td>0</td>\n",
       "      <td>82</td>\n",
       "      <td>137</td>\n",
       "      <td>0</td>\n",
       "      <td>101</td>\n",
       "      <td>75</td>\n",
       "      <td>0</td>\n",
       "      <td>0</td>\n",
       "      <td>...</td>\n",
       "      <td>0</td>\n",
       "      <td>0</td>\n",
       "      <td>0</td>\n",
       "      <td>0</td>\n",
       "      <td>0</td>\n",
       "      <td>0</td>\n",
       "      <td>0</td>\n",
       "      <td>0</td>\n",
       "      <td>0</td>\n",
       "      <td>0</td>\n",
       "    </tr>\n",
       "    <tr>\n",
       "      <th>5SAQC</th>\n",
       "      <td>6</td>\n",
       "      <td>10</td>\n",
       "      <td>0</td>\n",
       "      <td>2</td>\n",
       "      <td>14</td>\n",
       "      <td>0</td>\n",
       "      <td>3</td>\n",
       "      <td>2</td>\n",
       "      <td>0</td>\n",
       "      <td>0</td>\n",
       "      <td>...</td>\n",
       "      <td>0</td>\n",
       "      <td>0</td>\n",
       "      <td>0</td>\n",
       "      <td>0</td>\n",
       "      <td>0</td>\n",
       "      <td>0</td>\n",
       "      <td>0</td>\n",
       "      <td>0</td>\n",
       "      <td>0</td>\n",
       "      <td>0</td>\n",
       "    </tr>\n",
       "    <tr>\n",
       "      <th>E7QRO</th>\n",
       "      <td>1</td>\n",
       "      <td>8</td>\n",
       "      <td>1</td>\n",
       "      <td>3</td>\n",
       "      <td>11</td>\n",
       "      <td>0</td>\n",
       "      <td>10</td>\n",
       "      <td>0</td>\n",
       "      <td>0</td>\n",
       "      <td>0</td>\n",
       "      <td>...</td>\n",
       "      <td>2</td>\n",
       "      <td>0</td>\n",
       "      <td>0</td>\n",
       "      <td>3</td>\n",
       "      <td>0</td>\n",
       "      <td>0</td>\n",
       "      <td>0</td>\n",
       "      <td>2</td>\n",
       "      <td>2</td>\n",
       "      <td>0</td>\n",
       "    </tr>\n",
       "    <tr>\n",
       "      <th>CT5FP</th>\n",
       "      <td>18</td>\n",
       "      <td>20</td>\n",
       "      <td>0</td>\n",
       "      <td>12</td>\n",
       "      <td>25</td>\n",
       "      <td>0</td>\n",
       "      <td>10</td>\n",
       "      <td>3</td>\n",
       "      <td>0</td>\n",
       "      <td>0</td>\n",
       "      <td>...</td>\n",
       "      <td>0</td>\n",
       "      <td>0</td>\n",
       "      <td>0</td>\n",
       "      <td>0</td>\n",
       "      <td>0</td>\n",
       "      <td>0</td>\n",
       "      <td>0</td>\n",
       "      <td>0</td>\n",
       "      <td>0</td>\n",
       "      <td>0</td>\n",
       "    </tr>\n",
       "    <tr>\n",
       "      <th>7PTD8</th>\n",
       "      <td>19</td>\n",
       "      <td>17</td>\n",
       "      <td>2</td>\n",
       "      <td>12</td>\n",
       "      <td>21</td>\n",
       "      <td>0</td>\n",
       "      <td>15</td>\n",
       "      <td>8</td>\n",
       "      <td>0</td>\n",
       "      <td>0</td>\n",
       "      <td>...</td>\n",
       "      <td>1</td>\n",
       "      <td>0</td>\n",
       "      <td>0</td>\n",
       "      <td>0</td>\n",
       "      <td>0</td>\n",
       "      <td>0</td>\n",
       "      <td>0</td>\n",
       "      <td>2</td>\n",
       "      <td>1</td>\n",
       "      <td>0</td>\n",
       "    </tr>\n",
       "  </tbody>\n",
       "</table>\n",
       "<p>5 rows × 60 columns</p>\n",
       "</div>"
      ],
      "text/plain": [
       "             CAT  CAG  CAN  CTA  CTG  CTN  CGA  CGT  CGN  CNA  ...  NCG  NAC  \\\n",
       "sequence_id                                                    ...             \n",
       "9ZIMC        103  157    0   82  137    0  101   75    0    0  ...    0    0   \n",
       "5SAQC          6   10    0    2   14    0    3    2    0    0  ...    0    0   \n",
       "E7QRO          1    8    1    3   11    0   10    0    0    0  ...    2    0   \n",
       "CT5FP         18   20    0   12   25    0   10    3    0    0  ...    0    0   \n",
       "7PTD8         19   17    2   12   21    0   15    8    0    0  ...    1    0   \n",
       "\n",
       "             NAT  NAG  NTC  NTA  NTG  NGC  NGA  NGT  \n",
       "sequence_id                                          \n",
       "9ZIMC          0    0    0    0    0    0    0    0  \n",
       "5SAQC          0    0    0    0    0    0    0    0  \n",
       "E7QRO          0    3    0    0    0    2    2    0  \n",
       "CT5FP          0    0    0    0    0    0    0    0  \n",
       "7PTD8          0    0    0    0    0    2    1    0  \n",
       "\n",
       "[5 rows x 60 columns]"
      ]
     },
     "execution_count": 25,
     "metadata": {},
     "output_type": "execute_result"
    }
   ],
   "source": [
    "a = get_ngram_features(X[:50], get_perms(3), overlapping=False)\n",
    "a.head()"
   ]
  },
  {
   "cell_type": "code",
   "execution_count": 26,
   "metadata": {},
   "outputs": [
    {
     "data": {
      "text/html": [
       "<div>\n",
       "<style scoped>\n",
       "    .dataframe tbody tr th:only-of-type {\n",
       "        vertical-align: middle;\n",
       "    }\n",
       "\n",
       "    .dataframe tbody tr th {\n",
       "        vertical-align: top;\n",
       "    }\n",
       "\n",
       "    .dataframe thead th {\n",
       "        text-align: right;\n",
       "    }\n",
       "</style>\n",
       "<table border=\"1\" class=\"dataframe\">\n",
       "  <thead>\n",
       "    <tr style=\"text-align: right;\">\n",
       "      <th></th>\n",
       "      <th>CAT</th>\n",
       "      <th>CAG</th>\n",
       "      <th>CAN</th>\n",
       "      <th>CTA</th>\n",
       "      <th>CTG</th>\n",
       "      <th>CTN</th>\n",
       "      <th>CGA</th>\n",
       "      <th>CGT</th>\n",
       "      <th>CGN</th>\n",
       "      <th>CNA</th>\n",
       "      <th>...</th>\n",
       "      <th>NCG</th>\n",
       "      <th>NAC</th>\n",
       "      <th>NAT</th>\n",
       "      <th>NAG</th>\n",
       "      <th>NTC</th>\n",
       "      <th>NTA</th>\n",
       "      <th>NTG</th>\n",
       "      <th>NGC</th>\n",
       "      <th>NGA</th>\n",
       "      <th>NGT</th>\n",
       "    </tr>\n",
       "    <tr>\n",
       "      <th>sequence_id</th>\n",
       "      <th></th>\n",
       "      <th></th>\n",
       "      <th></th>\n",
       "      <th></th>\n",
       "      <th></th>\n",
       "      <th></th>\n",
       "      <th></th>\n",
       "      <th></th>\n",
       "      <th></th>\n",
       "      <th></th>\n",
       "      <th></th>\n",
       "      <th></th>\n",
       "      <th></th>\n",
       "      <th></th>\n",
       "      <th></th>\n",
       "      <th></th>\n",
       "      <th></th>\n",
       "      <th></th>\n",
       "      <th></th>\n",
       "      <th></th>\n",
       "      <th></th>\n",
       "    </tr>\n",
       "  </thead>\n",
       "  <tbody>\n",
       "    <tr>\n",
       "      <th>9ZIMC</th>\n",
       "      <td>103</td>\n",
       "      <td>157</td>\n",
       "      <td>0</td>\n",
       "      <td>82</td>\n",
       "      <td>137</td>\n",
       "      <td>0</td>\n",
       "      <td>101</td>\n",
       "      <td>75</td>\n",
       "      <td>0</td>\n",
       "      <td>0</td>\n",
       "      <td>...</td>\n",
       "      <td>0</td>\n",
       "      <td>0</td>\n",
       "      <td>0</td>\n",
       "      <td>0</td>\n",
       "      <td>0</td>\n",
       "      <td>0</td>\n",
       "      <td>0</td>\n",
       "      <td>0</td>\n",
       "      <td>0</td>\n",
       "      <td>0</td>\n",
       "    </tr>\n",
       "    <tr>\n",
       "      <th>5SAQC</th>\n",
       "      <td>6</td>\n",
       "      <td>10</td>\n",
       "      <td>0</td>\n",
       "      <td>2</td>\n",
       "      <td>14</td>\n",
       "      <td>0</td>\n",
       "      <td>3</td>\n",
       "      <td>2</td>\n",
       "      <td>0</td>\n",
       "      <td>0</td>\n",
       "      <td>...</td>\n",
       "      <td>0</td>\n",
       "      <td>0</td>\n",
       "      <td>0</td>\n",
       "      <td>0</td>\n",
       "      <td>0</td>\n",
       "      <td>0</td>\n",
       "      <td>0</td>\n",
       "      <td>0</td>\n",
       "      <td>0</td>\n",
       "      <td>0</td>\n",
       "    </tr>\n",
       "    <tr>\n",
       "      <th>E7QRO</th>\n",
       "      <td>1</td>\n",
       "      <td>8</td>\n",
       "      <td>1</td>\n",
       "      <td>3</td>\n",
       "      <td>11</td>\n",
       "      <td>0</td>\n",
       "      <td>10</td>\n",
       "      <td>0</td>\n",
       "      <td>0</td>\n",
       "      <td>0</td>\n",
       "      <td>...</td>\n",
       "      <td>2</td>\n",
       "      <td>0</td>\n",
       "      <td>0</td>\n",
       "      <td>3</td>\n",
       "      <td>0</td>\n",
       "      <td>0</td>\n",
       "      <td>0</td>\n",
       "      <td>2</td>\n",
       "      <td>2</td>\n",
       "      <td>0</td>\n",
       "    </tr>\n",
       "    <tr>\n",
       "      <th>CT5FP</th>\n",
       "      <td>18</td>\n",
       "      <td>20</td>\n",
       "      <td>0</td>\n",
       "      <td>12</td>\n",
       "      <td>25</td>\n",
       "      <td>0</td>\n",
       "      <td>10</td>\n",
       "      <td>3</td>\n",
       "      <td>0</td>\n",
       "      <td>0</td>\n",
       "      <td>...</td>\n",
       "      <td>0</td>\n",
       "      <td>0</td>\n",
       "      <td>0</td>\n",
       "      <td>0</td>\n",
       "      <td>0</td>\n",
       "      <td>0</td>\n",
       "      <td>0</td>\n",
       "      <td>0</td>\n",
       "      <td>0</td>\n",
       "      <td>0</td>\n",
       "    </tr>\n",
       "    <tr>\n",
       "      <th>7PTD8</th>\n",
       "      <td>19</td>\n",
       "      <td>17</td>\n",
       "      <td>2</td>\n",
       "      <td>12</td>\n",
       "      <td>21</td>\n",
       "      <td>0</td>\n",
       "      <td>15</td>\n",
       "      <td>8</td>\n",
       "      <td>0</td>\n",
       "      <td>0</td>\n",
       "      <td>...</td>\n",
       "      <td>1</td>\n",
       "      <td>0</td>\n",
       "      <td>0</td>\n",
       "      <td>0</td>\n",
       "      <td>0</td>\n",
       "      <td>0</td>\n",
       "      <td>0</td>\n",
       "      <td>2</td>\n",
       "      <td>1</td>\n",
       "      <td>0</td>\n",
       "    </tr>\n",
       "  </tbody>\n",
       "</table>\n",
       "<p>5 rows × 60 columns</p>\n",
       "</div>"
      ],
      "text/plain": [
       "             CAT  CAG  CAN  CTA  CTG  CTN  CGA  CGT  CGN  CNA  ...  NCG  NAC  \\\n",
       "sequence_id                                                    ...             \n",
       "9ZIMC        103  157    0   82  137    0  101   75    0    0  ...    0    0   \n",
       "5SAQC          6   10    0    2   14    0    3    2    0    0  ...    0    0   \n",
       "E7QRO          1    8    1    3   11    0   10    0    0    0  ...    2    0   \n",
       "CT5FP         18   20    0   12   25    0   10    3    0    0  ...    0    0   \n",
       "7PTD8         19   17    2   12   21    0   15    8    0    0  ...    1    0   \n",
       "\n",
       "             NAT  NAG  NTC  NTA  NTG  NGC  NGA  NGT  \n",
       "sequence_id                                          \n",
       "9ZIMC          0    0    0    0    0    0    0    0  \n",
       "5SAQC          0    0    0    0    0    0    0    0  \n",
       "E7QRO          0    3    0    0    0    2    2    0  \n",
       "CT5FP          0    0    0    0    0    0    0    0  \n",
       "7PTD8          0    0    0    0    0    2    1    0  \n",
       "\n",
       "[5 rows x 60 columns]"
      ]
     },
     "execution_count": 26,
     "metadata": {},
     "output_type": "execute_result"
    }
   ],
   "source": [
    "b = get_ngram_features(X[:50], get_perms(3), overlapping=True)\n",
    "b.head()"
   ]
  },
  {
   "cell_type": "code",
   "execution_count": 27,
   "metadata": {},
   "outputs": [],
   "source": [
    "assert a.equals(b)"
   ]
  },
  {
   "cell_type": "markdown",
   "metadata": {},
   "source": [
    "Okay, I am just now realizing that there cannot be any overlapping permuations.... \n",
    "This function will still be useful when I start checking for common subsequences that are *not* permutations\n",
    "\n",
    "### Submitting\n",
    "\n",
    "For now I'll make a quick pipeline to produce submittable predictions. The `test_values.csv` file is in the data directory"
   ]
  },
  {
   "cell_type": "code",
   "execution_count": 37,
   "metadata": {},
   "outputs": [],
   "source": [
    "X = get_ngram_features(X, get_perms(3)).join(X.drop('sequence', axis=1))"
   ]
  },
  {
   "cell_type": "markdown",
   "metadata": {},
   "source": [
    "For testing I'll use the Multinomial Naive-Bayes classifier because it is good at handling integer 'counted' features like I have here."
   ]
  },
  {
   "cell_type": "code",
   "execution_count": 38,
   "metadata": {},
   "outputs": [
    {
     "data": {
      "text/plain": [
       "MultinomialNB()"
      ]
     },
     "execution_count": 38,
     "metadata": {},
     "output_type": "execute_result"
    }
   ],
   "source": [
    "from sklearn.naive_bayes import MultinomialNB\n",
    "\n",
    "mnb = MultinomialNB()\n",
    "mnb.fit(X, lab_ids.values.ravel())"
   ]
  },
  {
   "cell_type": "markdown",
   "metadata": {},
   "source": [
    "Now I'll load in the test values and preprocess in the same way"
   ]
  },
  {
   "cell_type": "code",
   "execution_count": 20,
   "metadata": {},
   "outputs": [],
   "source": [
    "submission_format = pd.read_csv('../data/submission_format_3TFRxH6.csv', index_col='sequence_id')\n",
    "X_test = pd.read_csv('../data/test_values.csv', index_col='sequence_id')"
   ]
  },
  {
   "cell_type": "code",
   "execution_count": 50,
   "metadata": {},
   "outputs": [],
   "source": [
    "X_test = get_ngram_features(X_test, get_perms(3)).join(X_test.drop('sequence', axis=1))"
   ]
  },
  {
   "cell_type": "markdown",
   "metadata": {},
   "source": [
    "Get my predictions"
   ]
  },
  {
   "cell_type": "code",
   "execution_count": 54,
   "metadata": {},
   "outputs": [],
   "source": [
    "probas = mnb.predict_proba(X_test)\n",
    "\n",
    "# Sanity check\n",
    "assert probas.shape == submission_format.shape, 'wrong shape'\n",
    "assert (mnb.classes_ == submission_format.columns).all(), 'wrong columns'"
   ]
  },
  {
   "cell_type": "markdown",
   "metadata": {},
   "source": [
    "Make predictions into a DataFrame and export into the `data` directory as `submission.csv`"
   ]
  },
  {
   "cell_type": "code",
   "execution_count": 61,
   "metadata": {},
   "outputs": [],
   "source": [
    "submission = pd.DataFrame(data=probas, \n",
    "                          columns=mnb.classes_, \n",
    "                          index=submission_format.index)\n",
    "\n",
    "submission.to_csv('../data/submission.csv')"
   ]
  },
  {
   "cell_type": "markdown",
   "metadata": {},
   "source": [
    "This submission received a 55% top-10 accuracy score\n",
    "\n",
    "## Overnight Thoughts\n",
    "\n",
    "It would make more sense to have a function that counts all possible gene subsequences, rather than just permutations"
   ]
  },
  {
   "cell_type": "code",
   "execution_count": 18,
   "metadata": {},
   "outputs": [
    {
     "data": {
      "text/plain": [
       "25"
      ]
     },
     "execution_count": 18,
     "metadata": {},
     "output_type": "execute_result"
    }
   ],
   "source": [
    "def get_subs(n):\n",
    "    from itertools import product\n",
    "    return [''.join(sub) for sub in product('CATGN', repeat=n)]\n",
    "\n",
    "len(get_subs(2))"
   ]
  },
  {
   "cell_type": "markdown",
   "metadata": {},
   "source": [
    "Now to try the same process again with repetition allowed in the features\n",
    "\n",
    "**These features are not counting overlapping subsequences**"
   ]
  },
  {
   "cell_type": "code",
   "execution_count": 32,
   "metadata": {},
   "outputs": [
    {
     "data": {
      "text/html": [
       "<div>\n",
       "<style scoped>\n",
       "    .dataframe tbody tr th:only-of-type {\n",
       "        vertical-align: middle;\n",
       "    }\n",
       "\n",
       "    .dataframe tbody tr th {\n",
       "        vertical-align: top;\n",
       "    }\n",
       "\n",
       "    .dataframe thead th {\n",
       "        text-align: right;\n",
       "    }\n",
       "</style>\n",
       "<table border=\"1\" class=\"dataframe\">\n",
       "  <thead>\n",
       "    <tr style=\"text-align: right;\">\n",
       "      <th></th>\n",
       "      <th>CCC</th>\n",
       "      <th>CCA</th>\n",
       "      <th>CCT</th>\n",
       "      <th>CCG</th>\n",
       "      <th>CCN</th>\n",
       "      <th>CAC</th>\n",
       "      <th>CAA</th>\n",
       "      <th>CAT</th>\n",
       "      <th>CAG</th>\n",
       "      <th>CAN</th>\n",
       "      <th>...</th>\n",
       "      <th>species_budding_yeast</th>\n",
       "      <th>species_fly</th>\n",
       "      <th>species_human</th>\n",
       "      <th>species_mouse</th>\n",
       "      <th>species_mustard_weed</th>\n",
       "      <th>species_nematode</th>\n",
       "      <th>species_other</th>\n",
       "      <th>species_rat</th>\n",
       "      <th>species_synthetic</th>\n",
       "      <th>species_zebrafish</th>\n",
       "    </tr>\n",
       "    <tr>\n",
       "      <th>sequence_id</th>\n",
       "      <th></th>\n",
       "      <th></th>\n",
       "      <th></th>\n",
       "      <th></th>\n",
       "      <th></th>\n",
       "      <th></th>\n",
       "      <th></th>\n",
       "      <th></th>\n",
       "      <th></th>\n",
       "      <th></th>\n",
       "      <th></th>\n",
       "      <th></th>\n",
       "      <th></th>\n",
       "      <th></th>\n",
       "      <th></th>\n",
       "      <th></th>\n",
       "      <th></th>\n",
       "      <th></th>\n",
       "      <th></th>\n",
       "      <th></th>\n",
       "      <th></th>\n",
       "    </tr>\n",
       "  </thead>\n",
       "  <tbody>\n",
       "    <tr>\n",
       "      <th>JI7YC</th>\n",
       "      <td>95</td>\n",
       "      <td>144</td>\n",
       "      <td>125</td>\n",
       "      <td>84</td>\n",
       "      <td>0</td>\n",
       "      <td>106</td>\n",
       "      <td>124</td>\n",
       "      <td>115</td>\n",
       "      <td>136</td>\n",
       "      <td>0</td>\n",
       "      <td>...</td>\n",
       "      <td>0.0</td>\n",
       "      <td>0.0</td>\n",
       "      <td>1.0</td>\n",
       "      <td>0.0</td>\n",
       "      <td>0.0</td>\n",
       "      <td>0.0</td>\n",
       "      <td>0.0</td>\n",
       "      <td>0.0</td>\n",
       "      <td>0.0</td>\n",
       "      <td>0.0</td>\n",
       "    </tr>\n",
       "    <tr>\n",
       "      <th>B1WGM</th>\n",
       "      <td>13</td>\n",
       "      <td>21</td>\n",
       "      <td>14</td>\n",
       "      <td>18</td>\n",
       "      <td>0</td>\n",
       "      <td>12</td>\n",
       "      <td>16</td>\n",
       "      <td>14</td>\n",
       "      <td>28</td>\n",
       "      <td>0</td>\n",
       "      <td>...</td>\n",
       "      <td>0.0</td>\n",
       "      <td>0.0</td>\n",
       "      <td>0.0</td>\n",
       "      <td>0.0</td>\n",
       "      <td>0.0</td>\n",
       "      <td>0.0</td>\n",
       "      <td>0.0</td>\n",
       "      <td>0.0</td>\n",
       "      <td>0.0</td>\n",
       "      <td>0.0</td>\n",
       "    </tr>\n",
       "    <tr>\n",
       "      <th>HHATP</th>\n",
       "      <td>160</td>\n",
       "      <td>206</td>\n",
       "      <td>221</td>\n",
       "      <td>200</td>\n",
       "      <td>0</td>\n",
       "      <td>162</td>\n",
       "      <td>236</td>\n",
       "      <td>121</td>\n",
       "      <td>224</td>\n",
       "      <td>0</td>\n",
       "      <td>...</td>\n",
       "      <td>0.0</td>\n",
       "      <td>0.0</td>\n",
       "      <td>1.0</td>\n",
       "      <td>0.0</td>\n",
       "      <td>0.0</td>\n",
       "      <td>0.0</td>\n",
       "      <td>0.0</td>\n",
       "      <td>0.0</td>\n",
       "      <td>0.0</td>\n",
       "      <td>0.0</td>\n",
       "    </tr>\n",
       "    <tr>\n",
       "      <th>7CNVW</th>\n",
       "      <td>7</td>\n",
       "      <td>15</td>\n",
       "      <td>17</td>\n",
       "      <td>14</td>\n",
       "      <td>0</td>\n",
       "      <td>21</td>\n",
       "      <td>10</td>\n",
       "      <td>7</td>\n",
       "      <td>15</td>\n",
       "      <td>1</td>\n",
       "      <td>...</td>\n",
       "      <td>0.0</td>\n",
       "      <td>0.0</td>\n",
       "      <td>0.0</td>\n",
       "      <td>0.0</td>\n",
       "      <td>0.0</td>\n",
       "      <td>0.0</td>\n",
       "      <td>0.0</td>\n",
       "      <td>0.0</td>\n",
       "      <td>1.0</td>\n",
       "      <td>0.0</td>\n",
       "    </tr>\n",
       "    <tr>\n",
       "      <th>G8KM4</th>\n",
       "      <td>81</td>\n",
       "      <td>168</td>\n",
       "      <td>114</td>\n",
       "      <td>69</td>\n",
       "      <td>0</td>\n",
       "      <td>118</td>\n",
       "      <td>197</td>\n",
       "      <td>137</td>\n",
       "      <td>163</td>\n",
       "      <td>0</td>\n",
       "      <td>...</td>\n",
       "      <td>0.0</td>\n",
       "      <td>0.0</td>\n",
       "      <td>0.0</td>\n",
       "      <td>0.0</td>\n",
       "      <td>0.0</td>\n",
       "      <td>0.0</td>\n",
       "      <td>1.0</td>\n",
       "      <td>0.0</td>\n",
       "      <td>0.0</td>\n",
       "      <td>0.0</td>\n",
       "    </tr>\n",
       "  </tbody>\n",
       "</table>\n",
       "<p>5 rows × 164 columns</p>\n",
       "</div>"
      ],
      "text/plain": [
       "             CCC  CCA  CCT  CCG  CCN  CAC  CAA  CAT  CAG  CAN  ...  \\\n",
       "sequence_id                                                    ...   \n",
       "JI7YC         95  144  125   84    0  106  124  115  136    0  ...   \n",
       "B1WGM         13   21   14   18    0   12   16   14   28    0  ...   \n",
       "HHATP        160  206  221  200    0  162  236  121  224    0  ...   \n",
       "7CNVW          7   15   17   14    0   21   10    7   15    1  ...   \n",
       "G8KM4         81  168  114   69    0  118  197  137  163    0  ...   \n",
       "\n",
       "             species_budding_yeast  species_fly  species_human  species_mouse  \\\n",
       "sequence_id                                                                     \n",
       "JI7YC                          0.0          0.0            1.0            0.0   \n",
       "B1WGM                          0.0          0.0            0.0            0.0   \n",
       "HHATP                          0.0          0.0            1.0            0.0   \n",
       "7CNVW                          0.0          0.0            0.0            0.0   \n",
       "G8KM4                          0.0          0.0            0.0            0.0   \n",
       "\n",
       "             species_mustard_weed  species_nematode  species_other  \\\n",
       "sequence_id                                                          \n",
       "JI7YC                         0.0               0.0            0.0   \n",
       "B1WGM                         0.0               0.0            0.0   \n",
       "HHATP                         0.0               0.0            0.0   \n",
       "7CNVW                         0.0               0.0            0.0   \n",
       "G8KM4                         0.0               0.0            1.0   \n",
       "\n",
       "             species_rat  species_synthetic  species_zebrafish  \n",
       "sequence_id                                                     \n",
       "JI7YC                0.0                0.0                0.0  \n",
       "B1WGM                0.0                0.0                0.0  \n",
       "HHATP                0.0                0.0                0.0  \n",
       "7CNVW                0.0                1.0                0.0  \n",
       "G8KM4                0.0                0.0                0.0  \n",
       "\n",
       "[5 rows x 164 columns]"
      ]
     },
     "execution_count": 32,
     "metadata": {},
     "output_type": "execute_result"
    }
   ],
   "source": [
    "X = get_ngram_features(X, get_subs(3)).join(X.drop('sequence', axis=1))\n",
    "X.sample(5)"
   ]
  },
  {
   "cell_type": "code",
   "execution_count": 21,
   "metadata": {},
   "outputs": [],
   "source": [
    "X_test = get_ngram_features(X_test, get_subs(3)).join(X_test.drop('sequence', axis=1))"
   ]
  },
  {
   "cell_type": "code",
   "execution_count": 25,
   "metadata": {},
   "outputs": [
    {
     "data": {
      "text/plain": [
       "MultinomialNB()"
      ]
     },
     "execution_count": 25,
     "metadata": {},
     "output_type": "execute_result"
    }
   ],
   "source": [
    "mnb = MultinomialNB()\n",
    "mnb.fit(X, lab_ids.values.ravel())"
   ]
  },
  {
   "cell_type": "code",
   "execution_count": 26,
   "metadata": {},
   "outputs": [],
   "source": [
    "probas = mnb.predict_proba(X_test)\n",
    "\n",
    "# Sanity check\n",
    "assert probas.shape == submission_format.shape, 'wrong shape'\n",
    "assert (mnb.classes_ == submission_format.columns).all(), 'wrong columns'"
   ]
  },
  {
   "cell_type": "code",
   "execution_count": 27,
   "metadata": {},
   "outputs": [],
   "source": [
    "submission = pd.DataFrame(data=probas, \n",
    "                          columns=mnb.classes_, \n",
    "                          index=submission_format.index)\n",
    "\n",
    "submission.to_csv('../data/submission.csv')"
   ]
  },
  {
   "cell_type": "markdown",
   "metadata": {},
   "source": [
    "Alright I went down to 45% accuracy on this one. Definitely need to go another route, but I think this style of subsequence count is still useful.\n",
    "\n",
    "I think my next step will be trying to implement a simple CNN using Keras. I will explore this in the next notebook."
   ]
  }
 ],
 "metadata": {
  "kernelspec": {
   "display_name": "jakerenv",
   "language": "python",
   "name": "jakerenv"
  },
  "language_info": {
   "codemirror_mode": {
    "name": "ipython",
    "version": 3
   },
   "file_extension": ".py",
   "mimetype": "text/x-python",
   "name": "python",
   "nbconvert_exporter": "python",
   "pygments_lexer": "ipython3",
   "version": "3.8.5"
  }
 },
 "nbformat": 4,
 "nbformat_minor": 4
}
